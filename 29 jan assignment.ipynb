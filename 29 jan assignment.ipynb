{
 "cells": [
  {
   "cell_type": "code",
   "execution_count": 2,
   "id": "a6e35423-1214-445d-93c8-8df87069398a",
   "metadata": {},
   "outputs": [
    {
     "ename": "IndentationError",
     "evalue": "unindent does not match any outer indentation level (<tokenize>, line 22)",
     "output_type": "error",
     "traceback": [
      "\u001b[0;36m  File \u001b[0;32m<tokenize>:22\u001b[0;36m\u001b[0m\n\u001b[0;31m    for i in l1;\u001b[0m\n\u001b[0m    ^\u001b[0m\n\u001b[0;31mIndentationError\u001b[0m\u001b[0;31m:\u001b[0m unindent does not match any outer indentation level\n"
     ]
    }
   ],
   "source": [
    "                                   29th jan assignment\n",
    "Q1. Who devoloped python programming language?\n",
    "ans:-  Guido van rossum\n",
    "\n",
    "Q2. Which type of programming does python support?\n",
    "ans:- both object-oriented programming and structured programming\n",
    "\n",
    "Q3. is python case sensitive when dealing with identifiers?\n",
    "ans:- yes\n",
    "\n",
    "Q4. what is correct extension of the python file?\n",
    "ans:- .py\n",
    "\n",
    "Q5. is python code compiked or interpreted?\n",
    "ans:- interpreted\n",
    "\n",
    "Q6. Name a few blocks of code used to define in python language?\n",
    "ans:- l1=[1,2,3,4,\"adarsh\",\"kumar\",12.62001,\"barnwal\"]\n",
    "    lint=[]\n",
    "    lstr=[]\n",
    " \n",
    " for i in l1;\n",
    "    if type (i)==int or type(i)==float:\n",
    "        lint.append(i)\n",
    "    elif type(i)==str:\n",
    "        lstr.append(i)\n",
    "    print(lint)\n",
    "    print(lstr)\n",
    "    \n",
    "    \n",
    "Q7. state a character used to give single-line comment in python?\n",
    "ans:- #\n",
    "      for example # this is a single line comment\n",
    "    \n",
    "Q8. mention functions which can help us to find the version of python that we are currently working on?\n",
    "ans:- sys.version\n",
    "\n",
    "Q9. python supports the creation of anonymous functions at runtime, using a construct called_______\n",
    "ans:- lambda\n",
    "\n",
    "Q10. what does pip stand for python?\n",
    "ans:- preferred installer program\n",
    "\n",
    "Q11. mention a few built in functions in python?\n",
    "ans:- few built - in functions in python are \n",
    "      \n",
    "     print()function,type() function,input() function,pow() function,sorted() function,max() function,len() function etc\n",
    "\n",
    "Q12. what is the maximum pos.possible length of an identifier in python?\n",
    "ans:- 79 characters\n",
    "\n",
    "Q13. what are the benefits of using python?\n",
    "ans:- i. Easy to read, learn and write\n",
    "     ii. improve productivity\n",
    "    iii. interpreted language\n",
    "     iv. free and open-source\n",
    "    v.   dynamically typed\n",
    "    \n",
    "Q14. how is memory managed in python?\n",
    "ans:- actually acording to the python memory management documentation, python has a private heap that stores our\n",
    "programs object and data structures. python memory manager takes care of the bulk of the momory management work\n",
    "and allows us to concentrate on our code.\n",
    "\n",
    "Q15. how to install python on windos and set path variable?\n",
    "ans:- \n",
    "step 1:- install python from this link https//www.python.org/downloads/\n",
    "step 2:- install it on your pc. \n",
    "step 3:- look for the lacation where python has been installed on your pc using the following command on your\n",
    "         command prompt: cmd python.\n",
    "step 4:- then go to advanced system settings and add new variables and name it as python_name and paste the copied path.\n",
    "step 5:- then look for the path variable, select it\"s value and select edit\n",
    "step 6:- add a semicolon towards the end of the value if it's not present and then type %python_home%\n",
    "\n",
    "Q16. is indentation required in python?\n",
    "ans:- yes, it is very important"
   ]
  }
 ],
 "metadata": {
  "kernelspec": {
   "display_name": "Python 3 (ipykernel)",
   "language": "python",
   "name": "python3"
  },
  "language_info": {
   "codemirror_mode": {
    "name": "ipython",
    "version": 3
   },
   "file_extension": ".py",
   "mimetype": "text/x-python",
   "name": "python",
   "nbconvert_exporter": "python",
   "pygments_lexer": "ipython3",
   "version": "3.10.8"
  }
 },
 "nbformat": 4,
 "nbformat_minor": 5
}
